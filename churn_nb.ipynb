{
 "cells": [
  {
   "cell_type": "code",
   "execution_count": 29,
   "metadata": {},
   "outputs": [
    {
     "name": "stdout",
     "output_type": "stream",
     "text": [
      "5151\n"
     ]
    }
   ],
   "source": [
    "import pandas as pd\n",
    "from IPython.display import display\n",
    "url=\"https://raw.githubusercontent.com/AntonKoltsov85/DS_13.9_Client_Loyality/main/churn.csv\"\n",
    "churn_data = pd.read_csv(url)\n",
    "#display(churn_data.head(100))\n",
    "number_of_loyal_customers=churn_data[churn_data['IsActiveMember']==1]['IsActiveMember'].sum()\n",
    "#Share_of_loyal_customers=churn_data[churn_data['IsActiveMember']==1].sum()/churn_data['IsActiveMember'].sum()\n",
    "print(number_of_loyal_customers)"
   ]
  }
 ],
 "metadata": {
  "kernelspec": {
   "display_name": "Python 3",
   "language": "python",
   "name": "python3"
  },
  "language_info": {
   "codemirror_mode": {
    "name": "ipython",
    "version": 3
   },
   "file_extension": ".py",
   "mimetype": "text/x-python",
   "name": "python",
   "nbconvert_exporter": "python",
   "pygments_lexer": "ipython3",
   "version": "3.10.5"
  },
  "orig_nbformat": 4,
  "vscode": {
   "interpreter": {
    "hash": "fb4569285eef3a3450cb62085a5b1e0da4bce0af555edc33dcf29baf3acc1368"
   }
  }
 },
 "nbformat": 4,
 "nbformat_minor": 2
}
